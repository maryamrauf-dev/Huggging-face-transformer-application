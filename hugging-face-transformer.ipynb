{
 "cells": [
  {
   "cell_type": "code",
   "execution_count": null,
   "id": "56ce76a1-6966-44f9-936f-c8e1914abefb",
   "metadata": {},
   "outputs": [],
   "source": [
    "from transformers import pipeline, BertTokenizer, BertForQuestionAnswering\n",
    "import torch\n"
   ]
  },
  {
   "cell_type": "code",
   "execution_count": null,
   "id": "8055e940-d220-42dd-a935-7e1687809cb5",
   "metadata": {},
   "outputs": [],
   "source": [
    "sentiment_pipeline = pipeline(\"sentiment-analysis\")\n",
    "print(sentiment_pipeline(\"I love working with AI models!\"))"
   ]
  },
  {
   "cell_type": "code",
   "execution_count": null,
   "id": "79aaf79f-c837-4556-95fd-96b23fde9231",
   "metadata": {},
   "outputs": [],
   "source": [
    "classifier = pipeline(\"zero-shot-classification\")\n",
    "result = classifier(\"This is a new AI research paper\", candidate_labels=[\"education\", \"technology\", \"sports\"])\n",
    "print(result)"
   ]
  },
  {
   "cell_type": "code",
   "execution_count": null,
   "id": "e2173857-43a0-4927-ab13-12dda956128b",
   "metadata": {},
   "outputs": [],
   "source": [
    "ner_pipeline = pipeline(\"ner\")\n",
    "print(ner_pipeline(\"AI enginerring is vast field\"))"
   ]
  },
  {
   "cell_type": "code",
   "execution_count": null,
   "id": "1847a21c-81f9-4a58-b4ff-0c3c02d6b699",
   "metadata": {},
   "outputs": [],
   "source": [
    "tokenizer = BertTokenizer.from_pretrained('bert-large-uncased-whole-word-masking-finetuned-squad')\n",
    "model = BertForQuestionAnswering.from_pretrained('bert-large-uncased-whole-word-masking-finetuned-squad')\n"
   ]
  },
  {
   "cell_type": "code",
   "execution_count": null,
   "id": "45870b60-bd12-4d64-bc85-cd616fbf2baf",
   "metadata": {},
   "outputs": [],
   "source": [
    "question = \"What is Microsoft?\"\n",
    "context = \"It is one of top Tech company\"\n",
    "inputs = tokenizer(question, context, return_tensors='pt')\n",
    "outputs = model(**inputs)\n",
    "answer_start = torch.argmax(outputs.start_logits)\n",
    "answer_end = torch.argmax(outputs.end_logits) + 1\n",
    "answer = tokenizer.convert_tokens_to_string(tokenizer.convert_ids_to_tokens(inputs['input_ids'][0][answer_start:answer_end]))\n",
    "print(answer)\n"
   ]
  }
 ],
 "metadata": {
  "kernelspec": {
   "display_name": "llms_course_env",
   "language": "python",
   "name": "llms_course_env"
  },
  "language_info": {
   "codemirror_mode": {
    "name": "ipython",
    "version": 3
   },
   "file_extension": ".py",
   "mimetype": "text/x-python",
   "name": "python",
   "nbconvert_exporter": "python",
   "pygments_lexer": "ipython3",
   "version": "3.11.13"
  }
 },
 "nbformat": 4,
 "nbformat_minor": 5
}
